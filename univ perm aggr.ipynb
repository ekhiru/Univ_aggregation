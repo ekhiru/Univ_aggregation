{
  "cells": [
    {
      "cell_type": "code",
      "source": [
        "from scipy.spatial.distance import pdist\n",
        "import collections\n",
        "import seaborn as sns\n",
        "import subprocess\n",
        "import numpy as np\n",
        "import itertools as it\n",
        "import scipy as sp\n",
        "import pandas as pd\n",
        "import matplotlib.pyplot as plt\n",
        "from  imp import reload\n",
        "import sys\n",
        "from collections import Counter\n",
        "\n",
        "# the repo top-k-mallows is at \n",
        "# https://github.com/ekhiru/top-k-mallows\n",
        "sys.path.insert(1, '../top-k-mallows') \n",
        "\n",
        "import rpy2.robjects.numpy2ri\n",
        "from rpy2.robjects.packages import importr\n",
        "rpy2.robjects.numpy2ri.activate()\n",
        "import rpy2.robjects as robjects\n",
        "\n",
        "import mallows_kendall as mk\n",
        "import mallows_hamming as mh\n",
        "import mallows_model as mm\n",
        "import permutil as pu\n",
        "# import depth_utils as du\n"
      ],
      "outputs": [],
      "execution_count": 1,
      "metadata": {
        "execution": {
          "iopub.execute_input": "2022-11-07T15:31:11.405Z",
          "iopub.status.busy": "2022-11-07T15:31:11.401Z",
          "iopub.status.idle": "2022-11-07T15:31:16.376Z",
          "shell.execute_reply": "2022-11-07T15:31:16.464Z"
        },
        "jupyter": {
          "outputs_hidden": false,
          "source_hidden": false
        },
        "nteract": {
          "transient": {
            "deleting": false
          }
        }
      }
    },
    {
      "cell_type": "markdown",
      "source": [
        "## Auxiliar functions\n",
        "\n",
        "There are dependencies on PerMallows, an R package to sample form different distributions\n",
        "in particular, for the distribtion based upon Hamming, Cayley and Ulam\n"
      ],
      "metadata": {
        "nteract": {
          "transient": {
            "deleting": false
          }
        }
      }
    },
    {
      "cell_type": "code",
      "source": [
        "\n",
        "\n",
        "\n",
        "def sample_at_dists(dist_name, dist_val, perm):\n",
        "  if dist_name == 'k': return mk.sample_at_dist(n, dist_val, sk=sk, sigma0=perm)\n",
        "  R = rpy2.robjects.r\n",
        "  permallows = importr('PerMallows') \n",
        "  sample = np.array(permallows.rdist_perm(1, len(perm), dist_val, dist_name), dtype=int) - 1 \n",
        "#   print(sample[0].dtype, perm.dtype)\n",
        "  return np.array(perm)[sample[0]]\n",
        "\n",
        "\n",
        "def sample_mm_dists(dist_name,n,m,theta, central):\n",
        "  if dist_name == 'k': return mk.sample(m=m,n=n,theta=theta, s0=central)\n",
        "  R = rpy2.robjects.r\n",
        "  permallows = importr('PerMallows') \n",
        "  sample = np.array(permallows.rmm(m,list(range(1,1+n)),theta,dist_name), dtype=int) - 1 \n",
        "  return np.array([np.array(central)[np.array(s)] for s in sample])\n",
        "\n",
        "# sample_mm_dists('c',6,3,10,[5,3,4,0,1,2])\n",
        "# sample_at_dists('c', 2, list(range(10))[::-1])\n",
        "\n",
        "def prob_at_distance(max_dist, rho=10):\n",
        "  p = np.array([0]+[1/(rho*i+1) for i in range(max_dist)])\n",
        "  return p/p.sum()\n",
        "# prob_at_distance(max_dist, rho=10)\n",
        "\n",
        "reload(pu)\n",
        "# aux code\n",
        "# all neigs of perm\n",
        "\n",
        "def list_all_neigs(perm,dist_name ='k', num_rand_neigs=None):\n",
        "  n=len(perm)\n",
        "  neigs = []\n",
        "  if dist_name =='k' and num_rand_neigs is None:\n",
        "    inver = np.argsort(perm)\n",
        "    myindices = list(range(n-1))\n",
        "    \n",
        "    np.random.shuffle(myindices)\n",
        "    for i in myindices:\n",
        "        j = i+1\n",
        "        a,b = inver[i],inver[j]\n",
        "        perm2 = perm.copy()\n",
        "        perm2[b], perm2[a] = perm2[a], perm2[b]\n",
        "        neigs.append(perm2)\n",
        "  elif (dist_name == 'c' or dist_name == 'h') and num_rand_neigs is None:\n",
        "    myindices =list(it.combinations(range(n),2))\n",
        "    np.random.shuffle(myindices)\n",
        "    for (i,j) in  myindices:\n",
        "      perm2 = perm.copy()\n",
        "      perm2[i], perm2[j] = perm2[j], perm2[i]\n",
        "      neigs.append(perm2)\n",
        "  elif dist_name == 'u' and num_rand_neigs is None:\n",
        "#     there are repeated permus in neigs\n",
        "    inve = np.argsort(perm)\n",
        "    for i in range(n):\n",
        "      for j in range(n):\n",
        "        if i!= j :\n",
        "          inve2 = np.concatenate([inve[:i],inve[i+1:]]).copy()\n",
        "          inve2 = np.insert(inve2,j,inve[i])\n",
        "          perm2 = np.argsort(inve2)\n",
        "    #       print(pu.ulam_dist(perm,perm2))\n",
        "          neigs.append(perm2) \n",
        "  elif num_rand_neigs is not None:\n",
        "    max_dist = pu.max_dist(n,dist_name)\n",
        "    for i in range(num_rand_neigs):\n",
        "      dist_val = np.random.choice(1+max_dist,p=prob_at_distance(max_dist,10))\n",
        "      perm2 = sample_at_dists(dist_name, dist_val, perm)\n",
        "      neigs.append(perm2)\n",
        "  return neigs\n",
        "# list_all_neigs(perm,dist_name ='u', num_rand_neigs=None)\n",
        "\n",
        "\n",
        "\n",
        "def find_neigs(perm,P,sample=None,dist_name='k',method='best',num_rand_neigs=None):\n",
        "    inver = np.argsort(perm)\n",
        "    best_perm = None\n",
        "    best_depth = len(sample)*pu.max_dist(n,dist_name) - pu.dist_to_sample(perm,P, dist_name,sample)#pu.dist_to_sample(perm,P)\n",
        "    for sigma in list_all_neigs(perm,dist_name, num_rand_neigs=num_rand_neigs):\n",
        "#       print(sigma, mk.distance(perm,sigma))\n",
        "      depth = len(sample)*pu.max_dist(n,dist_name) - pu.dist_to_sample(sigma,P, dist_name,sample)#pu.dist_to_sample(perm,P)\n",
        "#       print(perm, sigma, best_depth, depth)\n",
        "      if best_depth < depth:\n",
        "          if method == 'first' or method == 'random': \n",
        "              return sigma\n",
        "          best_depth = depth\n",
        "          best_perm = sigma.copy()\n",
        "    return best_perm      \n",
        "      \n",
        "\n",
        "# sigma = find_neigs(perm,P,sample,dist_name_depth,f_obj,method,num_rand_neigs)\n",
        "# print(sigma, mk.distance(perm,sigma),\"last\")\n",
        "\n",
        "\n",
        "\n",
        "\n",
        "\n",
        "def plot_path(P, dfpaths, sample, dist_name, central=None, ax=None, save_path=None):\n",
        "    res=[]\n",
        "    if central is None: central = list(range(len(sample[0])))\n",
        "    if ax is None: f, ax = plt.subplots(1,1, figsize=(6,4))\n",
        "    res = []\n",
        "    deepest = None # = [depth,dist]\n",
        "    for perm in sample:\n",
        "      depth = len(sample)*pu.max_dist(n,dist_name) - pu.dist_to_sample(perm,P,dist_name=dist_name, sample=sample)\n",
        "      dist = pu.distance(perm,central,dist_name)\n",
        "      res.append([depth,dist])\n",
        "      if deepest is None or deepest[0] > depth:\n",
        "        deepest = [depth,dist]\n",
        "    df = pd.DataFrame(res,columns=['Depth', 'Distance to the center'])\n",
        "    df = df.groupby(['Depth', 'Distance to the center']).size().reset_index(name='freq').reset_index(drop=True)\n",
        "    sns.scatterplot(data=df, x=\"Distance to the center\", y=\"Depth\",ax=ax)#,color=\".2\", hue='freq'\n",
        "    plt.title(\"n=\"+str(n)+\", m=\"+str(m))\n",
        "    plt.xlabel(r'$d(\\sigma, \\sigma^*)$')\n",
        "    plt.ylabel(r'$\\widehat D(\\sigma)$')\n",
        "    num_paths = dfpaths.num_path.nunique()\n",
        "    print(num_paths)\n",
        "    for num_path in range(num_paths):\n",
        "        aux = dfpaths[dfpaths.num_path==num_path]\n",
        "        ax.plot(aux.dist, aux.depth,'r-',alpha=.5)\n",
        "        ax.plot(aux.iloc[-1].dist, aux.iloc[-1].depth, 'rx')\n",
        "    ax.grid(True)\n",
        "    if save_path is not None: plt.savefig(save_path)\n",
        "    return deepest, ax\n",
        "#     sns.heatmap(P,ax=ax[1])\n",
        "def Borda(rankings): \n",
        "  return np.argsort(np.argsort(rankings.sum(axis=0)))\n",
        "# f, ax = plt.subplots(1,3, figsize=(7,4))\n",
        "# plot_path(P, dfpath,sample, dist_name_depth,ax=ax[1])\n"
      ],
      "outputs": [],
      "execution_count": 2,
      "metadata": {
        "execution": {
          "iopub.status.busy": "2022-11-07T15:31:16.482Z",
          "iopub.execute_input": "2022-11-07T15:31:16.486Z",
          "iopub.status.idle": "2022-11-07T15:31:16.490Z",
          "shell.execute_reply": "2022-11-07T15:31:16.467Z"
        }
      }
    },
    {
      "cell_type": "markdown",
      "source": [
        "## Main function\n"
      ],
      "metadata": {
        "nteract": {
          "transient": {
            "deleting": false
          }
        }
      }
    },
    {
      "cell_type": "code",
      "source": [
        "reload(pu)\n",
        "reload(mk)\n",
        "\n",
        "def run_one(n,m,theta,dist_name_gen, dist_name_depth,method='first', maxiter=100, ax=None, repe=0, num_paths=1):\n",
        "  if method=='random' : num_rand_neigs=n**2\n",
        "  else:  num_rand_neigs= None\n",
        "    \n",
        "  central = np.arange(n)\n",
        "  sk = mk.num_perms_at_dist(n)\n",
        "  max_dist = pu.max_dist(n,dist_name_depth)\n",
        "  sample = sample_mm_dists(dist_name_gen,n,m,theta, central)\n",
        "  P = None\n",
        "  if dist_name_depth == 'h' or dist_name_depth == 'c' or dist_name_depth == 'u': P = pu.sample_to_marg(sample,'absolute')\n",
        "  if dist_name_depth == 'k': P = pu.sample_to_marg(sample,'relative')\n",
        "  dfpaths=pd.DataFrame()\n",
        "  for num_path in range(num_paths):\n",
        "    dist_vals, pairs, path = [], [], []\n",
        "    contiter, jumps = 0 , 0\n",
        "    perm = np.random.permutation(range(n))#perm_ini.copy()\n",
        "    depth = pu.max_dist(n, dist_name_depth) - pu.dist_to_sample(perm,P, dist_name_depth,sample), \n",
        "    dist = pu.distance(perm, central , dist_name=dist_name_depth)\n",
        "    # print(\"check fast depth works\" , depth, pu.dist_to_sample_slow(perm, dist_name_depth, sample))\n",
        "    halt = False\n",
        "    while not halt and contiter<maxiter:#\n",
        "      contiter+=1\n",
        "      perm2 = find_neigs(perm,P,sample,dist_name_depth,method,num_rand_neigs)\n",
        "      if perm2 is None : halt=True\n",
        "      else:\n",
        "        assert(pu.distance(perm,perm2,dist_name_depth)==1)\n",
        "        depth = len(sample)*pu.max_dist(n, dist_name_depth) - pu.dist_to_sample(perm2,P, dist_name_depth,sample)\n",
        "        dist = pu.distance(perm2, central , dist_name=dist_name_depth)\n",
        "        path.append([dist_name_gen, dist_name_depth,depth,dist,num_path])\n",
        "        perm = perm2\n",
        "    if contiter == maxiter: print(\"öjooooo MAX ITER reached\")\n",
        "    dfpath = pd.DataFrame(path,columns=['dist_name_gen', 'dist_name_depth','depth', 'dist', 'num_path'])\n",
        "    dfpaths = pd.concat([dfpaths,dfpath])\n",
        "  \n",
        "  ##set_median_dists = dfpath[dfpath.depth==dfpath.depth.max()].dist.values #the dist of the deepest rankings in the sample\n",
        "  save_path='img/path_'+dist_name_gen+ dist_name_depth+'_n'+str(n)+'_m'+str(m)+'_t'+str(theta)+'_'+str(repe)+'.pdf'\n",
        "  deepest, ax = plot_path(P, dfpaths,sample, dist_name_depth, ax=ax, save_path=save_path)\n",
        "  #print(\"Distances to center of the deepest* in path: \", (set_median_dists,   dfpath.dist.min()),\". in the sample:\", deepest, \"Borda: \", mk.distance(Borda(sample)))\n",
        "  return dfpaths, ax\n",
        "  \n",
        "\n"
      ],
      "outputs": [],
      "execution_count": 3,
      "metadata": {
        "collapsed": true,
        "jupyter": {
          "source_hidden": false,
          "outputs_hidden": false
        },
        "nteract": {
          "transient": {
            "deleting": false
          }
        },
        "execution": {
          "iopub.status.busy": "2022-11-07T15:31:16.496Z",
          "iopub.execute_input": "2022-11-07T15:31:16.500Z",
          "iopub.status.idle": "2022-11-07T15:31:16.504Z",
          "shell.execute_reply": "2022-11-07T15:31:16.470Z"
        }
      }
    },
    {
      "cell_type": "markdown",
      "source": [
        "# Running the main function\n",
        "Set the parameters and run the main function"
      ],
      "metadata": {
        "nteract": {
          "transient": {
            "deleting": false
          }
        }
      }
    },
    {
      "cell_type": "code",
      "source": [
        "n = 50\n",
        "m = 50\n",
        "theta = .2\n",
        "repe = 0\n",
        "dist_name_gen, dist_name_depth ='k', 'k'\n",
        "method = 'random' # first, best, random #OJO first y random hacen lo mismo (check)\n",
        "sk = mk.num_perms_at_dist(n)\n",
        "# f, ax = plt.subplots(1,3, figsize=(17,4))\n",
        "dfpaths, miax = run_one(n,m,theta,dist_name_gen, dist_name_depth,method='first', maxiter=20*pu.max_dist(n, dist_name_depth), repe=repe,num_paths=3)\n",
        "\n"
      ],
      "outputs": [
        {
          "output_type": "stream",
          "name": "stdout",
          "text": [
            "3\n"
          ]
        },
        {
          "output_type": "display_data",
          "data": {
            "text/plain": "<Figure size 432x288 with 1 Axes>",
            "image/png": "[encoded data removed]"
          },
          "metadata": {
            "needs_background": "light"
          }
        }
      ],
      "execution_count": 4,
      "metadata": {
        "collapsed": true,
        "jupyter": {
          "source_hidden": false,
          "outputs_hidden": false
        },
        "nteract": {
          "transient": {
            "deleting": false
          }
        },
        "execution": {
          "iopub.status.busy": "2022-11-07T15:31:16.509Z",
          "iopub.execute_input": "2022-11-07T15:31:16.513Z",
          "iopub.status.idle": "2022-11-07T15:31:18.251Z",
          "shell.execute_reply": "2022-11-07T15:31:18.259Z"
        }
      }
    }
  ],
  "metadata": {
    "kernel_info": {
      "name": "python3"
    },
    "kernelspec": {
      "display_name": "Python 3",
      "language": "python",
      "name": "python3"
    },
    "language_info": {
      "name": "python",
      "version": "3.9.0",
      "mimetype": "text/x-python",
      "codemirror_mode": {
        "name": "ipython",
        "version": 3
      },
      "pygments_lexer": "ipython3",
      "nbconvert_exporter": "python",
      "file_extension": ".py"
    },
    "nteract": {
      "version": "0.28.0"
    }
  },
  "nbformat": 4,
  "nbformat_minor": 1
}